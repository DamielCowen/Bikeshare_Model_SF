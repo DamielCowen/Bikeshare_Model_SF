{
 "cells": [
  {
   "cell_type": "markdown",
   "metadata": {},
   "source": [
    "# Bikeshare Analysis\n"
   ]
  },
  {
   "cell_type": "markdown",
   "metadata": {},
   "source": [
    "### Exploratory Data Analyasis and Hypothesis Testing with Bike Share Data\n"
   ]
  },
  {
   "cell_type": "markdown",
   "metadata": {},
   "source": [
    "#### Intra City Transportation\n",
    "\n",
    "Our cities are more crowded than ever. The 20th century was marked worldwide by migration of populations to cities and this trend shows no signals of slowing down. As migration continues the strain on transportation resources increases. The United States has a love affair with the automobile. This fact alone is not bad. However it has lent its self to prioritizing personal vehical transportation over other, more effiecnt ones. Namely the bicycle. When focusing on intra city journys, bicycles are arguably use limited transportation space most efficently.\n",
    "\n",
    "By understanding how, where, and when people choose to use bicycles better systems and infastructure can be designed."
   ]
  },
  {
   "cell_type": "markdown",
   "metadata": {},
   "source": [
    "#### Sources of Data"
   ]
  },
  {
   "cell_type": "markdown",
   "metadata": {},
   "source": [
    "#### Lyft (Bay Wheels) publicly available bike share data.\n",
    "\n",
    "https://www.lyft.com/bikes/bay-wheels/system-data\n",
    "\n",
    "Two tables, trip data and station data.\n",
    "\n",
    "Trip data contains attributes of 4.6 million trips between Janurary 2017 and November 2019. Key attributes include:\n",
    "\n",
    "* Trip Duration (seconds)\n",
    "* Start Time and Date\n",
    "* End Time and Date\n",
    "* Start Station ID\n",
    "* Start Station Name\n",
    "* Start Station Latitude\n",
    "* Start Station Longitude\n",
    "* End Station ID\n",
    "* End Station Name\n",
    "* End Station Latitude\n",
    "* End Station Longitude\n",
    "\n",
    "\n",
    "Station data contains attributes of 437 stations in the San Francisco Bay Area. Key attributes include:\n",
    "\n",
    "* Station ID\n",
    "* Station Lat\n",
    "* Station Lon\n"
   ]
  },
  {
   "cell_type": "markdown",
   "metadata": {},
   "source": [
    "#### Google Distance Matrix API\n",
    "\n",
    "Quarried 56 thousand times to compute trip distance for each possible journy in the San Francisco Region. For each journy the following attributes were generated:\n",
    "\n",
    "* bicycle trip distance\n",
    "* bicycle trip duration\n",
    "* public transit trip distance\n",
    "* public transit trip duration\n",
    "* public transit trip cost"
   ]
  },
  {
   "cell_type": "code",
   "execution_count": null,
   "metadata": {},
   "outputs": [],
   "source": []
  }
 ],
 "metadata": {},
 "nbformat": 4,
 "nbformat_minor": 2
}
