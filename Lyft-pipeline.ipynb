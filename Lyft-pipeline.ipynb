{
 "cells": [
  {
   "cell_type": "code",
   "execution_count": 37,
   "metadata": {},
   "outputs": [],
   "source": [
    "import pandas as pd\n",
    "import numpy as np\n",
    "\n"
   ]
  },
  {
   "cell_type": "code",
   "execution_count": 41,
   "metadata": {},
   "outputs": [],
   "source": [
    "\n",
    "filenames = []\n",
    "\n",
    "x = '''\n",
    "-rw-r--r--@ 1 danielcohen  staff  94921787 Dec 27 11:26  2017-fordgobike-tripdata.csv \n",
    "-rw-r--r--@ 1 danielcohen  staff  17536200 Dec 16 11:16  201801-fordgobike-tripdata.csv \n",
    "-rw-r--r--@ 1 danielcohen  staff  19787812 Dec 16 11:17  201802-fordgobike-tripdata.csv \n",
    "-rw-r--r--@ 1 danielcohen  staff  20670716 Dec 16 11:18  201803-fordgobike-tripdata.csv \n",
    "-rw-r--r--@ 1 danielcohen  staff  24254783 Dec 16 11:19  201804-fordgobike-tripdata.csv \n",
    "-rw-r--r--@ 1 danielcohen  staff  33138017 Dec 16 11:21  201805-fordgobike-tripdata.csv \n",
    "-rw-r--r--@ 1 danielcohen  staff  36097891 Dec 16 11:22  201806-fordgobike-tripdata.csv \n",
    "-rw-r--r--@ 1 danielcohen  staff  36631752 Dec 16 11:24  201807-fordgobike-tripdata.csv \n",
    "-rw-r--r--@ 1 danielcohen  staff  35451761 Dec 16 11:25  201808-fordgobike-tripdata.csv \n",
    "-rw-r--r--@ 1 danielcohen  staff  34474235 Dec 16 11:27  201809-fordgobike-tripdata.csv \n",
    "-rw-r--r--@ 1 danielcohen  staff  37348320 Dec 16 11:28  201810-fordgobike-tripdata.csv   \n",
    "-rw-r--r--@ 1 danielcohen  staff  24914785 Dec 16 11:29  201811-fordgobike-tripdata.csv   \n",
    "-rw-r--r--@ 1 danielcohen  staff  24385392 Dec 16 11:31  201812-fordgobike-tripdata.csv   \n",
    "-rw-r--r--@ 1 danielcohen  staff  35610597 Dec 16 11:32  201901-fordgobike-tripdata.csv   \n",
    "-rw-r--r--@ 1 danielcohen  staff  33995020 Dec 16 11:33  201902-fordgobike-tripdata.csv   \n",
    "-rw-r--r--@ 1 danielcohen  staff  47545283 Dec 16 11:35  201903-fordgobike-tripdata.csv   \n",
    "-rw-r--r--@ 1 danielcohen  staff  44382625 Dec 16 11:36  201904-fordgobike-tripdata.csv   \n",
    "-rw-r--r--@ 1 danielcohen  staff  33860283 Dec 16 11:38  201905-baywheels-tripdata.csv  \n",
    "-rw-r--r--@ 1 danielcohen  staff  35610277 Dec 16 11:42  201906-baywheels-tripdata.csv     \n",
    "-rw-r--r--@ 1 danielcohen  staff  44540874 Dec 16 11:44  201907-baywheels-tripdata.csv  \n",
    "-rw-r--r--@ 1 danielcohen  staff  39120422 Dec 16 11:46  201908-baywheels-tripdata.csv  \n",
    "-rw-r--r--@ 1 danielcohen  staff  40479431 Dec 16 11:47  201909-baywheels-tripdata.csv  \n",
    "-rw-r--r--@ 1 danielcohen  staff  44675257 Dec 16 11:49  201910-baywheels-tripdata.csv  \n",
    "-rw-r--r--@ 1 danielcohen  staff  34669388 Dec 20 10:38  201911-baywheels-tripdata.csv  '''\n",
    "    \n",
    "for line in x.splitlines()[1:]:\n",
    "    line = line.split(' ')\n",
    "    filenames.append(f'data/lyft/{line[11]}')"
   ]
  },
  {
   "cell_type": "code",
   "execution_count": 83,
   "metadata": {},
   "outputs": [],
   "source": [
    "#df = pd.read_csv(f'{filenames[1]}', sep = ';')"
   ]
  },
  {
   "cell_type": "code",
   "execution_count": 6,
   "metadata": {},
   "outputs": [
    {
     "name": "stdout",
     "output_type": "stream",
     "text": [
      "data/lyft/201801-fordgobike-tripdata.csv\n",
      "data/lyft/201802-fordgobike-tripdata.csv\n",
      "data/lyft/201803-fordgobike-tripdata.csv\n",
      "data/lyft/201804-fordgobike-tripdata.csv\n",
      "data/lyft/201805-fordgobike-tripdata.csv\n",
      "data/lyft/201806-fordgobike-tripdata.csv\n",
      "data/lyft/201807-fordgobike-tripdata.csv\n",
      "data/lyft/201808-fordgobike-tripdata.csv\n",
      "data/lyft/201809-fordgobike-tripdata.csv\n",
      "data/lyft/201810-fordgobike-tripdata.csv\n",
      "data/lyft/201811-fordgobike-tripdata.csv\n",
      "data/lyft/201812-fordgobike-tripdata.csv\n",
      "data/lyft/201901-fordgobike-tripdata.csv\n",
      "data/lyft/201902-fordgobike-tripdata.csv\n",
      "data/lyft/201903-fordgobike-tripdata.csv\n",
      "data/lyft/201904-fordgobike-tripdata.csv\n",
      "data/lyft/201905-baywheels-tripdata.csv\n",
      "data/lyft/201906-baywheels-tripdata.csv\n"
     ]
    },
    {
     "name": "stderr",
     "output_type": "stream",
     "text": [
      "/Applications/anaconda3/lib/python3.7/site-packages/IPython/core/interactiveshell.py:3058: DtypeWarning: Columns (14) have mixed types. Specify dtype option on import or set low_memory=False.\n",
      "  interactivity=interactivity, compiler=compiler, result=result)\n"
     ]
    },
    {
     "name": "stdout",
     "output_type": "stream",
     "text": [
      "data/lyft/201907-baywheels-tripdata.csv\n"
     ]
    },
    {
     "name": "stderr",
     "output_type": "stream",
     "text": [
      "/Applications/anaconda3/lib/python3.7/site-packages/IPython/core/interactiveshell.py:3058: DtypeWarning: Columns (13,14) have mixed types. Specify dtype option on import or set low_memory=False.\n",
      "  interactivity=interactivity, compiler=compiler, result=result)\n"
     ]
    },
    {
     "name": "stdout",
     "output_type": "stream",
     "text": [
      "data/lyft/201908-baywheels-tripdata.csv\n",
      "data/lyft/201909-baywheels-tripdata.csv\n",
      "data/lyft/201910-baywheels-tripdata.csv\n",
      "data/lyft/201911-baywheels-tripdata.csv\n"
     ]
    }
   ],
   "source": [
    "for i in filenames[2:]:\n",
    "    print(i)\n",
    "    df = df.append(pd.read_csv(f'{i}', sep = ';'), ignore_index=True, sort=False)"
   ]
  },
  {
   "cell_type": "code",
   "execution_count": 60,
   "metadata": {},
   "outputs": [],
   "source": [
    "# remove journeys that do not have a start_station_id or end_station_id\n",
    "df = df.dropna(subset=['start_station_id','end_station_id'])"
   ]
  },
  {
   "cell_type": "code",
   "execution_count": 77,
   "metadata": {},
   "outputs": [
    {
     "data": {
      "text/plain": [
       "126257"
      ]
     },
     "execution_count": 77,
     "metadata": {},
     "output_type": "execute_result"
    }
   ],
   "source": [
    "#number of trips that end where they start\n",
    "sum(df['start_station_id'] == df['end_station_id'])\n",
    "# consider removing from dataset"
   ]
  },
  {
   "cell_type": "code",
   "execution_count": 52,
   "metadata": {},
   "outputs": [
    {
     "data": {
      "text/html": [
       "<div>\n",
       "<style scoped>\n",
       "    .dataframe tbody tr th:only-of-type {\n",
       "        vertical-align: middle;\n",
       "    }\n",
       "\n",
       "    .dataframe tbody tr th {\n",
       "        vertical-align: top;\n",
       "    }\n",
       "\n",
       "    .dataframe thead th {\n",
       "        text-align: right;\n",
       "    }\n",
       "</style>\n",
       "<table border=\"1\" class=\"dataframe\">\n",
       "  <thead>\n",
       "    <tr style=\"text-align: right;\">\n",
       "      <th></th>\n",
       "      <th>duration_sec</th>\n",
       "      <th>start_time</th>\n",
       "      <th>end_time</th>\n",
       "      <th>start_station_id</th>\n",
       "      <th>start_station_name</th>\n",
       "      <th>start_station_latitude</th>\n",
       "      <th>start_station_longitude</th>\n",
       "      <th>end_station_id</th>\n",
       "      <th>end_station_name</th>\n",
       "      <th>end_station_latitude</th>\n",
       "      <th>end_station_longitude</th>\n",
       "      <th>bike_id</th>\n",
       "      <th>user_type</th>\n",
       "      <th>bike_share_for_all_trip</th>\n",
       "      <th>rental_access_method</th>\n",
       "    </tr>\n",
       "  </thead>\n",
       "  <tbody>\n",
       "    <tr>\n",
       "      <td>0</td>\n",
       "      <td>80110</td>\n",
       "      <td>2017-12-31 16:57:39.6540</td>\n",
       "      <td>2018-01-01 15:12:50.2450</td>\n",
       "      <td>74.0</td>\n",
       "      <td>Laguna St at Hayes St</td>\n",
       "      <td>37.776435</td>\n",
       "      <td>-122.426244</td>\n",
       "      <td>43.0</td>\n",
       "      <td>San Francisco Public Library (Grove St at Hyde...</td>\n",
       "      <td>37.778768</td>\n",
       "      <td>-122.415929</td>\n",
       "      <td>96</td>\n",
       "      <td>Customer</td>\n",
       "      <td>NaN</td>\n",
       "      <td>NaN</td>\n",
       "    </tr>\n",
       "    <tr>\n",
       "      <td>1</td>\n",
       "      <td>78800</td>\n",
       "      <td>2017-12-31 15:56:34.8420</td>\n",
       "      <td>2018-01-01 13:49:55.6170</td>\n",
       "      <td>284.0</td>\n",
       "      <td>Yerba Buena Center for the Arts (Howard St at ...</td>\n",
       "      <td>37.784872</td>\n",
       "      <td>-122.400876</td>\n",
       "      <td>96.0</td>\n",
       "      <td>Dolores St at 15th St</td>\n",
       "      <td>37.766210</td>\n",
       "      <td>-122.426614</td>\n",
       "      <td>88</td>\n",
       "      <td>Customer</td>\n",
       "      <td>NaN</td>\n",
       "      <td>NaN</td>\n",
       "    </tr>\n",
       "    <tr>\n",
       "      <td>2</td>\n",
       "      <td>45768</td>\n",
       "      <td>2017-12-31 22:45:48.4110</td>\n",
       "      <td>2018-01-01 11:28:36.8830</td>\n",
       "      <td>245.0</td>\n",
       "      <td>Downtown Berkeley BART</td>\n",
       "      <td>37.870348</td>\n",
       "      <td>-122.267764</td>\n",
       "      <td>245.0</td>\n",
       "      <td>Downtown Berkeley BART</td>\n",
       "      <td>37.870348</td>\n",
       "      <td>-122.267764</td>\n",
       "      <td>1094</td>\n",
       "      <td>Customer</td>\n",
       "      <td>NaN</td>\n",
       "      <td>NaN</td>\n",
       "    </tr>\n",
       "    <tr>\n",
       "      <td>3</td>\n",
       "      <td>62172</td>\n",
       "      <td>2017-12-31 17:31:10.6360</td>\n",
       "      <td>2018-01-01 10:47:23.5310</td>\n",
       "      <td>60.0</td>\n",
       "      <td>8th St at Ringold St</td>\n",
       "      <td>37.774520</td>\n",
       "      <td>-122.409449</td>\n",
       "      <td>5.0</td>\n",
       "      <td>Powell St BART Station (Market St at 5th St)</td>\n",
       "      <td>37.783899</td>\n",
       "      <td>-122.408445</td>\n",
       "      <td>2831</td>\n",
       "      <td>Customer</td>\n",
       "      <td>NaN</td>\n",
       "      <td>NaN</td>\n",
       "    </tr>\n",
       "    <tr>\n",
       "      <td>4</td>\n",
       "      <td>43603</td>\n",
       "      <td>2017-12-31 14:23:14.0010</td>\n",
       "      <td>2018-01-01 02:29:57.5710</td>\n",
       "      <td>239.0</td>\n",
       "      <td>Bancroft Way at Telegraph Ave</td>\n",
       "      <td>37.868813</td>\n",
       "      <td>-122.258764</td>\n",
       "      <td>247.0</td>\n",
       "      <td>Fulton St at Bancroft Way</td>\n",
       "      <td>37.867789</td>\n",
       "      <td>-122.265896</td>\n",
       "      <td>3167</td>\n",
       "      <td>Subscriber</td>\n",
       "      <td>NaN</td>\n",
       "      <td>NaN</td>\n",
       "    </tr>\n",
       "  </tbody>\n",
       "</table>\n",
       "</div>"
      ],
      "text/plain": [
       "   duration_sec                start_time                  end_time  \\\n",
       "0         80110  2017-12-31 16:57:39.6540  2018-01-01 15:12:50.2450   \n",
       "1         78800  2017-12-31 15:56:34.8420  2018-01-01 13:49:55.6170   \n",
       "2         45768  2017-12-31 22:45:48.4110  2018-01-01 11:28:36.8830   \n",
       "3         62172  2017-12-31 17:31:10.6360  2018-01-01 10:47:23.5310   \n",
       "4         43603  2017-12-31 14:23:14.0010  2018-01-01 02:29:57.5710   \n",
       "\n",
       "   start_station_id                                 start_station_name  \\\n",
       "0              74.0                              Laguna St at Hayes St   \n",
       "1             284.0  Yerba Buena Center for the Arts (Howard St at ...   \n",
       "2             245.0                             Downtown Berkeley BART   \n",
       "3              60.0                               8th St at Ringold St   \n",
       "4             239.0                      Bancroft Way at Telegraph Ave   \n",
       "\n",
       "   start_station_latitude  start_station_longitude  end_station_id  \\\n",
       "0               37.776435              -122.426244            43.0   \n",
       "1               37.784872              -122.400876            96.0   \n",
       "2               37.870348              -122.267764           245.0   \n",
       "3               37.774520              -122.409449             5.0   \n",
       "4               37.868813              -122.258764           247.0   \n",
       "\n",
       "                                    end_station_name  end_station_latitude  \\\n",
       "0  San Francisco Public Library (Grove St at Hyde...             37.778768   \n",
       "1                              Dolores St at 15th St             37.766210   \n",
       "2                             Downtown Berkeley BART             37.870348   \n",
       "3       Powell St BART Station (Market St at 5th St)             37.783899   \n",
       "4                          Fulton St at Bancroft Way             37.867789   \n",
       "\n",
       "   end_station_longitude  bike_id   user_type bike_share_for_all_trip  \\\n",
       "0            -122.415929       96    Customer                     NaN   \n",
       "1            -122.426614       88    Customer                     NaN   \n",
       "2            -122.267764     1094    Customer                     NaN   \n",
       "3            -122.408445     2831    Customer                     NaN   \n",
       "4            -122.265896     3167  Subscriber                     NaN   \n",
       "\n",
       "  rental_access_method  \n",
       "0                  NaN  \n",
       "1                  NaN  \n",
       "2                  NaN  \n",
       "3                  NaN  \n",
       "4                  NaN  "
      ]
     },
     "execution_count": 52,
     "metadata": {},
     "output_type": "execute_result"
    }
   ],
   "source": [
    "df.head()"
   ]
  },
  {
   "cell_type": "code",
   "execution_count": 61,
   "metadata": {},
   "outputs": [],
   "source": [
    "#subset of data for only san francisco data. subset of 3.5 million\n",
    "sf = df[df['end_station_longitude'] < -122.356360]"
   ]
  },
  {
   "cell_type": "code",
   "execution_count": 63,
   "metadata": {},
   "outputs": [],
   "source": [
    "sf.to_csv('data/lyft/sf_combined.csv')"
   ]
  },
  {
   "cell_type": "code",
   "execution_count": 64,
   "metadata": {},
   "outputs": [
    {
     "name": "stdout",
     "output_type": "stream",
     "text": [
      "CPU times: user 56.2 s, sys: 1.89 s, total: 58 s\n",
      "Wall time: 58.6 s\n"
     ]
    }
   ],
   "source": [
    "%time df.to_csv('data/lyft/lyft_combined.csv')"
   ]
  },
  {
   "cell_type": "code",
   "execution_count": 65,
   "metadata": {},
   "outputs": [],
   "source": [
    "#create a sub pd.dataframe to calculate unique journies\n",
    "start_end = sf[['start_station_id','end_station_id']]\n"
   ]
  },
  {
   "cell_type": "code",
   "execution_count": 35,
   "metadata": {},
   "outputs": [],
   "source": [
    "start_end.to_csv('data/lyft/start_end.csv')"
   ]
  },
  {
   "cell_type": "code",
   "execution_count": 79,
   "metadata": {},
   "outputs": [
    {
     "data": {
      "text/plain": [
       "4653275"
      ]
     },
     "execution_count": 79,
     "metadata": {},
     "output_type": "execute_result"
    }
   ],
   "source": [
    "len(df)"
   ]
  },
  {
   "cell_type": "code",
   "execution_count": 82,
   "metadata": {},
   "outputs": [
    {
     "data": {
      "text/plain": [
       "15"
      ]
     },
     "execution_count": 82,
     "metadata": {},
     "output_type": "execute_result"
    }
   ],
   "source": [
    "len(df.columns)"
   ]
  },
  {
   "cell_type": "code",
   "execution_count": null,
   "metadata": {},
   "outputs": [],
   "source": []
  }
 ],
 "metadata": {
  "kernelspec": {
   "display_name": "Python 3",
   "language": "python",
   "name": "python3"
  },
  "language_info": {
   "codemirror_mode": {
    "name": "ipython",
    "version": 3
   },
   "file_extension": ".py",
   "mimetype": "text/x-python",
   "name": "python",
   "nbconvert_exporter": "python",
   "pygments_lexer": "ipython3",
   "version": "3.7.4"
  }
 },
 "nbformat": 4,
 "nbformat_minor": 2
}
